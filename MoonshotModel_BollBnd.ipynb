{
 "cells": [
  {
   "cell_type": "markdown",
   "id": "e9d6988f",
   "metadata": {},
   "source": [
    "# Moonshot Model: BollingerTransform"
   ]
  },
  {
   "cell_type": "code",
   "execution_count": 1,
   "id": "499cb9c6",
   "metadata": {},
   "outputs": [],
   "source": [
    "import pandas as pd\n",
    "import numpy as np\n",
    "import datetime as dt\n",
    "import os\n",
    "import warnings\n",
    "import datetime\n",
    "warnings.filterwarnings(\"ignore\")\n",
    "import matplotlib.pyplot as plt"
   ]
  },
  {
   "cell_type": "code",
   "execution_count": 2,
   "id": "b84bf1ca",
   "metadata": {},
   "outputs": [],
   "source": [
    "from bs4 import BeautifulSoup\n",
    "import requests\n",
    "import time\n",
    "from selenium import webdriver"
   ]
  },
  {
   "cell_type": "markdown",
   "id": "d1541df4",
   "metadata": {},
   "source": [
    "#### Uncomment and Run below only to pull entire history"
   ]
  },
  {
   "cell_type": "raw",
   "id": "92fde61b",
   "metadata": {},
   "source": [
    "start_date = dt.date(2013, 4, 28)\n",
    "end_date = dt.date(2021, 12, 5)\n",
    "delta = dt.timedelta(days=7)\n",
    "datelist = []\n",
    "\n",
    "while end_date >= start_date:\n",
    "    datelist.append(end_date.strftime('%Y%m%d'))\n",
    "    end_date -= delta"
   ]
  },
  {
   "cell_type": "raw",
   "id": "9686dd98",
   "metadata": {},
   "source": [
    "def PullData(url):\n",
    "    driver = webdriver.Chrome(executable_path=r\"C:\\Program Files (x86)\\Google\\Chrome\\chromedriver.exe\")\n",
    "    driver.get(url)\n",
    "    time.sleep(2)\n",
    "    scroll_pause_time = 1\n",
    "    screen_height = driver.execute_script(\"return window.screen.height;\")   # get the screen height of the web\n",
    "    i = 1\n",
    "    while True:\n",
    "        driver.execute_script(\"window.scrollTo(0, {screen_height}*{i});\".format(screen_height=screen_height, i=i))  \n",
    "        i += 1\n",
    "        time.sleep(scroll_pause_time)\n",
    "        scroll_height = driver.execute_script(\"return document.body.scrollHeight;\")  \n",
    "        if (screen_height) * i > scroll_height:\n",
    "            break\n",
    "    dt = pd.read_html(driver.page_source)\n",
    "    driver.close()\n",
    "    return dt"
   ]
  },
  {
   "cell_type": "raw",
   "id": "194463a5",
   "metadata": {
    "scrolled": true
   },
   "source": [
    "for datevalue in datelist[200:]:\n",
    "    print(datevalue)\n",
    "    url = \"https://coinmarketcap.com/historical/\" + datevalue + \"/\"\n",
    "    dt = PullData(url)\n",
    "    dt = dt[2].iloc[:,[0,2,3,4]]\n",
    "    dt.dropna(axis = 0, inplace = True)\n",
    "    dt[\"Date\"] = datevalue\n",
    "    if datelist.index(datevalue) == 0:\n",
    "        dtraw = dt\n",
    "    else:\n",
    "        dtraw = pd.concat([dtraw, dt], axis = 0, ignore_index=True)\n",
    "dtraw.to_csv (r'C:\\Users\\aniro\\Documents\\Study\\SMU MQF\\QF634 Reaearch\\OurProject\\dtrawLatest.csv', index = False, header=True)"
   ]
  },
  {
   "cell_type": "markdown",
   "id": "0294ea51",
   "metadata": {},
   "source": [
    "### Load data and clean"
   ]
  },
  {
   "cell_type": "code",
   "execution_count": 3,
   "id": "2737f029",
   "metadata": {},
   "outputs": [
    {
     "data": {
      "text/html": [
       "<div>\n",
       "<style scoped>\n",
       "    .dataframe tbody tr th:only-of-type {\n",
       "        vertical-align: middle;\n",
       "    }\n",
       "\n",
       "    .dataframe tbody tr th {\n",
       "        vertical-align: top;\n",
       "    }\n",
       "\n",
       "    .dataframe thead th {\n",
       "        text-align: right;\n",
       "    }\n",
       "</style>\n",
       "<table border=\"1\" class=\"dataframe\">\n",
       "  <thead>\n",
       "    <tr style=\"text-align: right;\">\n",
       "      <th></th>\n",
       "      <th>Date</th>\n",
       "      <th>Symbol</th>\n",
       "      <th>Rank</th>\n",
       "    </tr>\n",
       "  </thead>\n",
       "  <tbody>\n",
       "    <tr>\n",
       "      <th>0</th>\n",
       "      <td>2013-04-28</td>\n",
       "      <td>NVC</td>\n",
       "      <td>7</td>\n",
       "    </tr>\n",
       "    <tr>\n",
       "      <th>1</th>\n",
       "      <td>2013-04-28</td>\n",
       "      <td>BTC</td>\n",
       "      <td>1</td>\n",
       "    </tr>\n",
       "    <tr>\n",
       "      <th>2</th>\n",
       "      <td>2013-04-28</td>\n",
       "      <td>LTC</td>\n",
       "      <td>2</td>\n",
       "    </tr>\n",
       "    <tr>\n",
       "      <th>3</th>\n",
       "      <td>2013-04-28</td>\n",
       "      <td>DVC</td>\n",
       "      <td>6</td>\n",
       "    </tr>\n",
       "    <tr>\n",
       "      <th>4</th>\n",
       "      <td>2013-04-28</td>\n",
       "      <td>NMC</td>\n",
       "      <td>4</td>\n",
       "    </tr>\n",
       "    <tr>\n",
       "      <th>...</th>\n",
       "      <td>...</td>\n",
       "      <td>...</td>\n",
       "      <td>...</td>\n",
       "    </tr>\n",
       "    <tr>\n",
       "      <th>82173</th>\n",
       "      <td>2021-11-28</td>\n",
       "      <td>BAT</td>\n",
       "      <td>67</td>\n",
       "    </tr>\n",
       "    <tr>\n",
       "      <th>82174</th>\n",
       "      <td>2021-11-28</td>\n",
       "      <td>QNT</td>\n",
       "      <td>68</td>\n",
       "    </tr>\n",
       "    <tr>\n",
       "      <th>82175</th>\n",
       "      <td>2021-11-28</td>\n",
       "      <td>STX</td>\n",
       "      <td>69</td>\n",
       "    </tr>\n",
       "    <tr>\n",
       "      <th>82176</th>\n",
       "      <td>2021-11-28</td>\n",
       "      <td>ONE</td>\n",
       "      <td>59</td>\n",
       "    </tr>\n",
       "    <tr>\n",
       "      <th>82177</th>\n",
       "      <td>2021-11-28</td>\n",
       "      <td>REQ</td>\n",
       "      <td>150</td>\n",
       "    </tr>\n",
       "  </tbody>\n",
       "</table>\n",
       "<p>82178 rows × 3 columns</p>\n",
       "</div>"
      ],
      "text/plain": [
       "            Date Symbol  Rank\n",
       "0     2013-04-28    NVC     7\n",
       "1     2013-04-28    BTC     1\n",
       "2     2013-04-28    LTC     2\n",
       "3     2013-04-28    DVC     6\n",
       "4     2013-04-28    NMC     4\n",
       "...          ...    ...   ...\n",
       "82173 2021-11-28    BAT    67\n",
       "82174 2021-11-28    QNT    68\n",
       "82175 2021-11-28    STX    69\n",
       "82176 2021-11-28    ONE    59\n",
       "82177 2021-11-28    REQ   150\n",
       "\n",
       "[82178 rows x 3 columns]"
      ]
     },
     "execution_count": 3,
     "metadata": {},
     "output_type": "execute_result"
    }
   ],
   "source": [
    "dt_meta = pd.read_csv('MarketCapTable.csv')\n",
    "\n",
    "def clean_currency(x):\n",
    "    if isinstance(x, str):\n",
    "        return(x.replace('$', '').replace(',', ''))\n",
    "    return(x)\n",
    "dt_meta['Price'] = dt_meta['Price'].apply(clean_currency).astype('float')\n",
    "dt_meta['Date'] = pd.to_datetime(dt_meta['Date'])\n",
    "dt_meta.sort_values(by = \"Date\", ascending = True, inplace = True)\n",
    "\n",
    "dtraw = dt_meta.loc[:,[\"Date\", \"Symbol\", \"Rank\"]]\n",
    "#Remove stablecoins\n",
    "remove = ['USDT', 'BUSD', 'UST', 'USDC']\n",
    "for stk in remove:\n",
    "    dtraw.drop(dtraw[dtraw[\"Symbol\"]==stk].index, inplace = True)\n",
    "dtraw.reset_index(drop = True, inplace = True)\n",
    "dtraw"
   ]
  },
  {
   "cell_type": "markdown",
   "id": "a45b1eb4",
   "metadata": {},
   "source": [
    "### Calculate Rank Score from Bollinger Band Transformation Signal"
   ]
  },
  {
   "cell_type": "code",
   "execution_count": 4,
   "id": "692850ba",
   "metadata": {},
   "outputs": [],
   "source": [
    "def bollbnd(df, n):\n",
    "    sma = df.rolling(window = n,min_periods = n).mean()\n",
    "    stddev = df.rolling(window = n,min_periods = n).std()\n",
    "    return 100*(df- sma)/stddev"
   ]
  },
  {
   "cell_type": "code",
   "execution_count": 5,
   "id": "88058f14",
   "metadata": {},
   "outputs": [
    {
     "data": {
      "text/html": [
       "<div>\n",
       "<style scoped>\n",
       "    .dataframe tbody tr th:only-of-type {\n",
       "        vertical-align: middle;\n",
       "    }\n",
       "\n",
       "    .dataframe tbody tr th {\n",
       "        vertical-align: top;\n",
       "    }\n",
       "\n",
       "    .dataframe thead th {\n",
       "        text-align: right;\n",
       "    }\n",
       "</style>\n",
       "<table border=\"1\" class=\"dataframe\">\n",
       "  <thead>\n",
       "    <tr style=\"text-align: right;\">\n",
       "      <th></th>\n",
       "      <th>Date</th>\n",
       "      <th>Symbol</th>\n",
       "      <th>Rank</th>\n",
       "      <th>Score</th>\n",
       "    </tr>\n",
       "  </thead>\n",
       "  <tbody>\n",
       "    <tr>\n",
       "      <th>0</th>\n",
       "      <td>2014-04-20</td>\n",
       "      <td>NVC</td>\n",
       "      <td>19</td>\n",
       "      <td>180.730818</td>\n",
       "    </tr>\n",
       "    <tr>\n",
       "      <th>1</th>\n",
       "      <td>2014-04-27</td>\n",
       "      <td>NVC</td>\n",
       "      <td>19</td>\n",
       "      <td>171.468350</td>\n",
       "    </tr>\n",
       "    <tr>\n",
       "      <th>2</th>\n",
       "      <td>2014-05-04</td>\n",
       "      <td>NVC</td>\n",
       "      <td>20</td>\n",
       "      <td>180.850127</td>\n",
       "    </tr>\n",
       "    <tr>\n",
       "      <th>3</th>\n",
       "      <td>2014-05-11</td>\n",
       "      <td>NVC</td>\n",
       "      <td>20</td>\n",
       "      <td>171.980012</td>\n",
       "    </tr>\n",
       "    <tr>\n",
       "      <th>4</th>\n",
       "      <td>2014-05-18</td>\n",
       "      <td>NVC</td>\n",
       "      <td>21</td>\n",
       "      <td>180.833689</td>\n",
       "    </tr>\n",
       "    <tr>\n",
       "      <th>...</th>\n",
       "      <td>...</td>\n",
       "      <td>...</td>\n",
       "      <td>...</td>\n",
       "      <td>...</td>\n",
       "    </tr>\n",
       "    <tr>\n",
       "      <th>38903</th>\n",
       "      <td>2021-11-07</td>\n",
       "      <td>NEAR</td>\n",
       "      <td>39</td>\n",
       "      <td>-173.857690</td>\n",
       "    </tr>\n",
       "    <tr>\n",
       "      <th>38904</th>\n",
       "      <td>2021-11-14</td>\n",
       "      <td>NEAR</td>\n",
       "      <td>36</td>\n",
       "      <td>-187.853549</td>\n",
       "    </tr>\n",
       "    <tr>\n",
       "      <th>38905</th>\n",
       "      <td>2021-11-21</td>\n",
       "      <td>NEAR</td>\n",
       "      <td>39</td>\n",
       "      <td>-156.892543</td>\n",
       "    </tr>\n",
       "    <tr>\n",
       "      <th>38906</th>\n",
       "      <td>2021-11-28</td>\n",
       "      <td>NEAR</td>\n",
       "      <td>42</td>\n",
       "      <td>-128.719535</td>\n",
       "    </tr>\n",
       "    <tr>\n",
       "      <th>38907</th>\n",
       "      <td>2021-11-28</td>\n",
       "      <td>RENBTC</td>\n",
       "      <td>109</td>\n",
       "      <td>56.236827</td>\n",
       "    </tr>\n",
       "  </tbody>\n",
       "</table>\n",
       "<p>38908 rows × 4 columns</p>\n",
       "</div>"
      ],
      "text/plain": [
       "            Date  Symbol  Rank       Score\n",
       "0     2014-04-20     NVC    19  180.730818\n",
       "1     2014-04-27     NVC    19  171.468350\n",
       "2     2014-05-04     NVC    20  180.850127\n",
       "3     2014-05-11     NVC    20  171.980012\n",
       "4     2014-05-18     NVC    21  180.833689\n",
       "...          ...     ...   ...         ...\n",
       "38903 2021-11-07    NEAR    39 -173.857690\n",
       "38904 2021-11-14    NEAR    36 -187.853549\n",
       "38905 2021-11-21    NEAR    39 -156.892543\n",
       "38906 2021-11-28    NEAR    42 -128.719535\n",
       "38907 2021-11-28  RENBTC   109   56.236827\n",
       "\n",
       "[38908 rows x 4 columns]"
      ]
     },
     "execution_count": 5,
     "metadata": {},
     "output_type": "execute_result"
    }
   ],
   "source": [
    "dt_check = dtraw.loc[:,[\"Date\", \"Symbol\", \"Rank\"]]\n",
    "coins = list(dt_check[\"Symbol\"].unique())\n",
    "for coin in coins:\n",
    "    dt_temp = dt_check[dt_check[\"Symbol\"]==coin]\n",
    "    dt_temp[\"Score\"] = bollbnd(dt_temp[\"Rank\"], 52)\n",
    "    dt_temp.dropna(inplace = True)\n",
    "    if coins.index(coin) == 0:\n",
    "        dt = dt_temp\n",
    "    else:\n",
    "        dt = pd.concat([dt, dt_temp], axis = 0, ignore_index=True)\n",
    "dt"
   ]
  },
  {
   "cell_type": "markdown",
   "id": "fd0e1b80",
   "metadata": {},
   "source": [
    "### Create matrix of top 10 coins by date from Score Calculated above"
   ]
  },
  {
   "cell_type": "code",
   "execution_count": 6,
   "id": "f29741eb",
   "metadata": {},
   "outputs": [
    {
     "data": {
      "text/html": [
       "<div>\n",
       "<style scoped>\n",
       "    .dataframe tbody tr th:only-of-type {\n",
       "        vertical-align: middle;\n",
       "    }\n",
       "\n",
       "    .dataframe tbody tr th {\n",
       "        vertical-align: top;\n",
       "    }\n",
       "\n",
       "    .dataframe thead th {\n",
       "        text-align: right;\n",
       "    }\n",
       "</style>\n",
       "<table border=\"1\" class=\"dataframe\">\n",
       "  <thead>\n",
       "    <tr style=\"text-align: right;\">\n",
       "      <th></th>\n",
       "      <th>0</th>\n",
       "      <th>1</th>\n",
       "      <th>2</th>\n",
       "      <th>3</th>\n",
       "      <th>4</th>\n",
       "      <th>5</th>\n",
       "      <th>6</th>\n",
       "      <th>7</th>\n",
       "      <th>8</th>\n",
       "      <th>9</th>\n",
       "    </tr>\n",
       "    <tr>\n",
       "      <th>Date</th>\n",
       "      <th></th>\n",
       "      <th></th>\n",
       "      <th></th>\n",
       "      <th></th>\n",
       "      <th></th>\n",
       "      <th></th>\n",
       "      <th></th>\n",
       "      <th></th>\n",
       "      <th></th>\n",
       "      <th></th>\n",
       "    </tr>\n",
       "  </thead>\n",
       "  <tbody>\n",
       "    <tr>\n",
       "      <th>2021-09-26</th>\n",
       "      <td>HT</td>\n",
       "      <td>XVG</td>\n",
       "      <td>EOS</td>\n",
       "      <td>CKB</td>\n",
       "      <td>BCH</td>\n",
       "      <td>NEO</td>\n",
       "      <td>SNT</td>\n",
       "      <td>SC</td>\n",
       "      <td>BSV</td>\n",
       "      <td>MKR</td>\n",
       "    </tr>\n",
       "    <tr>\n",
       "      <th>2021-10-03</th>\n",
       "      <td>HT</td>\n",
       "      <td>XVG</td>\n",
       "      <td>EOS</td>\n",
       "      <td>COMP</td>\n",
       "      <td>XLM</td>\n",
       "      <td>SC</td>\n",
       "      <td>BCH</td>\n",
       "      <td>DCR</td>\n",
       "      <td>TRX</td>\n",
       "      <td>SNT</td>\n",
       "    </tr>\n",
       "    <tr>\n",
       "      <th>2021-10-10</th>\n",
       "      <td>HT</td>\n",
       "      <td>COMP</td>\n",
       "      <td>XVG</td>\n",
       "      <td>EOS</td>\n",
       "      <td>AAVE</td>\n",
       "      <td>MKR</td>\n",
       "      <td>NEO</td>\n",
       "      <td>XMR</td>\n",
       "      <td>BCH</td>\n",
       "      <td>CKB</td>\n",
       "    </tr>\n",
       "    <tr>\n",
       "      <th>2021-10-17</th>\n",
       "      <td>HT</td>\n",
       "      <td>XVG</td>\n",
       "      <td>EOS</td>\n",
       "      <td>DCR</td>\n",
       "      <td>XMR</td>\n",
       "      <td>NEO</td>\n",
       "      <td>AAVE</td>\n",
       "      <td>LSK</td>\n",
       "      <td>COMP</td>\n",
       "      <td>BCH</td>\n",
       "    </tr>\n",
       "    <tr>\n",
       "      <th>2021-10-24</th>\n",
       "      <td>HUSD</td>\n",
       "      <td>XVG</td>\n",
       "      <td>DCR</td>\n",
       "      <td>NEO</td>\n",
       "      <td>EOS</td>\n",
       "      <td>COMP</td>\n",
       "      <td>BCH</td>\n",
       "      <td>MKR</td>\n",
       "      <td>BAT</td>\n",
       "      <td>AAVE</td>\n",
       "    </tr>\n",
       "    <tr>\n",
       "      <th>2021-10-31</th>\n",
       "      <td>HUSD</td>\n",
       "      <td>DCR</td>\n",
       "      <td>BCH</td>\n",
       "      <td>XMR</td>\n",
       "      <td>CHSB</td>\n",
       "      <td>MKR</td>\n",
       "      <td>AAVE</td>\n",
       "      <td>EOS</td>\n",
       "      <td>XVG</td>\n",
       "      <td>NEO</td>\n",
       "    </tr>\n",
       "    <tr>\n",
       "      <th>2021-11-07</th>\n",
       "      <td>DCR</td>\n",
       "      <td>XVG</td>\n",
       "      <td>LSK</td>\n",
       "      <td>XMR</td>\n",
       "      <td>BCH</td>\n",
       "      <td>CHSB</td>\n",
       "      <td>NANO</td>\n",
       "      <td>COMP</td>\n",
       "      <td>AAVE</td>\n",
       "      <td>EOS</td>\n",
       "    </tr>\n",
       "    <tr>\n",
       "      <th>2021-11-14</th>\n",
       "      <td>DCR</td>\n",
       "      <td>LSK</td>\n",
       "      <td>XMR</td>\n",
       "      <td>HT</td>\n",
       "      <td>COMP</td>\n",
       "      <td>EOS</td>\n",
       "      <td>NANO</td>\n",
       "      <td>AAVE</td>\n",
       "      <td>ARDR</td>\n",
       "      <td>CEL</td>\n",
       "    </tr>\n",
       "    <tr>\n",
       "      <th>2021-11-21</th>\n",
       "      <td>DCR</td>\n",
       "      <td>HUSD</td>\n",
       "      <td>NANO</td>\n",
       "      <td>SUSHI</td>\n",
       "      <td>CEL</td>\n",
       "      <td>COMP</td>\n",
       "      <td>BCH</td>\n",
       "      <td>AAVE</td>\n",
       "      <td>LSK</td>\n",
       "      <td>NEO</td>\n",
       "    </tr>\n",
       "    <tr>\n",
       "      <th>2021-11-28</th>\n",
       "      <td>NANO</td>\n",
       "      <td>NEO</td>\n",
       "      <td>SUSHI</td>\n",
       "      <td>DCR</td>\n",
       "      <td>AAVE</td>\n",
       "      <td>HUSD</td>\n",
       "      <td>CEL</td>\n",
       "      <td>SNX</td>\n",
       "      <td>LINK</td>\n",
       "      <td>XVG</td>\n",
       "    </tr>\n",
       "  </tbody>\n",
       "</table>\n",
       "</div>"
      ],
      "text/plain": [
       "               0     1      2      3     4     5     6     7     8     9\n",
       "Date                                                                    \n",
       "2021-09-26    HT   XVG    EOS    CKB   BCH   NEO   SNT    SC   BSV   MKR\n",
       "2021-10-03    HT   XVG    EOS   COMP   XLM    SC   BCH   DCR   TRX   SNT\n",
       "2021-10-10    HT  COMP    XVG    EOS  AAVE   MKR   NEO   XMR   BCH   CKB\n",
       "2021-10-17    HT   XVG    EOS    DCR   XMR   NEO  AAVE   LSK  COMP   BCH\n",
       "2021-10-24  HUSD   XVG    DCR    NEO   EOS  COMP   BCH   MKR   BAT  AAVE\n",
       "2021-10-31  HUSD   DCR    BCH    XMR  CHSB   MKR  AAVE   EOS   XVG   NEO\n",
       "2021-11-07   DCR   XVG    LSK    XMR   BCH  CHSB  NANO  COMP  AAVE   EOS\n",
       "2021-11-14   DCR   LSK    XMR     HT  COMP   EOS  NANO  AAVE  ARDR   CEL\n",
       "2021-11-21   DCR  HUSD   NANO  SUSHI   CEL  COMP   BCH  AAVE   LSK   NEO\n",
       "2021-11-28  NANO   NEO  SUSHI    DCR  AAVE  HUSD   CEL   SNX  LINK   XVG"
      ]
     },
     "execution_count": 6,
     "metadata": {},
     "output_type": "execute_result"
    }
   ],
   "source": [
    "table = pd.pivot_table(dt,index=['Symbol'], columns = 'Date', values = \"Score\")\n",
    "topcoins = table.copy()\n",
    "\n",
    "for i in range(0,len(topcoins.columns)):\n",
    "    topcoins.iloc[:,i] = topcoins.iloc[:,i].sort_values(ascending = False).index\n",
    "topcoins = topcoins[0:30]\n",
    "topcoins.index = range(len(topcoins))\n",
    "topcoins_raw = topcoins.copy()\n",
    "topcoins = topcoins[0:10].transpose()\n",
    "topcoins.tail(10)"
   ]
  },
  {
   "cell_type": "markdown",
   "id": "fd0e1b80",
   "metadata": {},
   "source": [
    "### Create rolling portfolio of top 10 equally weighted coins"
   ]
  },
  {
   "cell_type": "code",
   "execution_count": 7,
   "id": "b387a0a1",
   "metadata": {},
   "outputs": [],
   "source": [
    "weightdf = pd.DataFrame(index = topcoins.index, columns = coins)\n",
    "\n",
    "for row in weightdf.index:\n",
    "    for col in weightdf.columns:\n",
    "        if col in topcoins.loc[row].values:\n",
    "            weightdf.loc[row,col]=0.1\n",
    "weightdf.fillna(0, inplace = True)\n",
    "\n",
    "dfret = pd.pivot_table(dt_meta,index=['Date'], columns = 'Symbol', values = \"Price\")\n",
    "dfret = dfret.pct_change().apply(lambda x: np.log(1+x))\n",
    "dfret = dfret.loc[weightdf.index,weightdf.columns]\n",
    "dfret.fillna(0, inplace = True)\n",
    "\n",
    "weight_port = weightdf.copy()\n",
    "dfret[\"Port_Ret\"] = np.nan\n",
    "for row in weight_port.index:\n",
    "    dfret.loc[row,\"Port_Ret\"] = sum(weight_port.loc[row,:] * dfret.shift(-1).loc[row,][:-1])"
   ]
  },
  {
   "cell_type": "markdown",
   "id": "fd0e1b80",
   "metadata": {},
   "source": [
    "### Backtest rolling portfolio"
   ]
  },
  {
   "cell_type": "code",
   "execution_count": 8,
   "id": "6354a9a1",
   "metadata": {},
   "outputs": [
    {
     "data": {
      "image/png": "[encoded data removed]",
      "text/plain": [
       "<Figure size 1152x648 with 1 Axes>"
      ]
     },
     "metadata": {
      "needs_background": "light"
     },
     "output_type": "display_data"
    }
   ],
   "source": [
    "dfret[[\"Port_Ret\", \"BTC\"]].cumsum().apply(np.exp).plot(figsize = (16,9))\n",
    "plt.title(\"Cumulative Returns\")\n",
    "plt.legend([\"Moonshot Portfolio\", \"BTC\"])\n",
    "plt.show()"
   ]
  },
  {
   "cell_type": "code",
   "execution_count": 9,
   "id": "2d165f59",
   "metadata": {
    "scrolled": false
   },
   "outputs": [
    {
     "data": {
      "image/png": "[encoded data removed]",
      "text/plain": [
       "<Figure size 1152x648 with 1 Axes>"
      ]
     },
     "metadata": {
      "needs_background": "light"
     },
     "output_type": "display_data"
    }
   ],
   "source": [
    "dfret[[\"Port_Ret\", \"BTC\"]].cumsum().plot(figsize = (16,9))\n",
    "plt.legend([\"Moonshot Portfolio\", \"BTC\"])\n",
    "plt.title(\"Logarithmic Cumulative Returns\")\n",
    "plt.show()"
   ]
  },
  {
   "cell_type": "markdown",
   "id": "ad62350f",
   "metadata": {},
   "source": [
    "### Portfolio Performance Stats"
   ]
  },
  {
   "cell_type": "code",
   "execution_count": 10,
   "id": "2e76aba2",
   "metadata": {},
   "outputs": [
    {
     "name": "stdout",
     "output_type": "stream",
     "text": [
      "Shape Ratio of the Moonshot Portfolio is 1.37\n"
     ]
    }
   ],
   "source": [
    "sharpe = dfret[\"Port_Ret\"].mean()/dfret[\"Port_Ret\"].std()*np.sqrt(253)\n",
    "print(\"Shape Ratio of the Moonshot Portfolio is \" + str(round(sharpe,2)))"
   ]
  },
  {
   "cell_type": "code",
   "execution_count": 11,
   "id": "6ee63f9b",
   "metadata": {},
   "outputs": [
    {
     "name": "stdout",
     "output_type": "stream",
     "text": [
      "CAGR of the Moonshot Portfolio is 90.31%\n"
     ]
    }
   ],
   "source": [
    "D = (dfret.index[-1] - dfret.index[0]).days\n",
    "cagr = ((((dfret[\"Port_Ret\"].cumsum().apply(np.exp)[-2]) ** (365.0/D)) - 1)*100)\n",
    "print(\"CAGR of the Moonshot Portfolio is \" + str(round(cagr,2)) + \"%\")"
   ]
  }
 ],
 "metadata": {
  "kernelspec": {
   "display_name": "Python 3 (ipykernel)",
   "language": "python",
   "name": "python3"
  },
  "language_info": {
   "codemirror_mode": {
    "name": "ipython",
    "version": 3
   },
   "file_extension": ".py",
   "mimetype": "text/x-python",
   "name": "python",
   "nbconvert_exporter": "python",
   "pygments_lexer": "ipython3",
   "version": "3.9.6"
  }
 },
 "nbformat": 4,
 "nbformat_minor": 5
}
